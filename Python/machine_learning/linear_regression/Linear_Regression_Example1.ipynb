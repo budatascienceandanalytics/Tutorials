{
 "cells": [
  {
   "cell_type": "markdown",
   "metadata": {},
   "source": [
    "# Linear Regression Example 1\n",
    "This notebook is to demonstrate linear regression on a really simple example without the use of any ML libraries"
   ]
  },
  {
   "cell_type": "code",
   "execution_count": 399,
   "metadata": {},
   "outputs": [],
   "source": [
    "import numpy as np\n",
    "import matplotlib.pyplot as plt\n",
    "np.random.seed(12345)"
   ]
  },
  {
   "cell_type": "markdown",
   "metadata": {},
   "source": [
    "# Get Training Data\n",
    "We'll create some random sample data from a Normal distribution with `np.random.randn(dim0, dim1)`\n",
    "and add some \"gaussian noise\" in the form of another random vector from Normal distribution to our response  variable `Y = theta0*x0 + theta1*x1 + noise` so that we don't just get a straight line of data, because that's too easy"
   ]
  },
  {
   "cell_type": "code",
   "execution_count": 400,
   "metadata": {},
   "outputs": [
    {
     "name": "stdout",
     "output_type": "stream",
     "text": [
      "(100, 1)\n"
     ]
    }
   ],
   "source": [
    "N = 100 # Number of data points\n",
    "x0 = np.ones([N, 1]) # Vector of ones to match up with y-intercept for matrix multiplication\n",
    "x1 = np.random.randn(N, 1) # Feature taken from normal distribution\n",
    "X = np.hstack((x0, x1)) # 100x2 Matrix of column1 = 1's and column2 = feature1\n",
    "noise = np.random.randn(N, 1) # Random noise vector to simulate real world data\n",
    "\n",
    "theta0 = 0.0 # True value of y-intercept\n",
    "theta1 = 1.0 # True value of slope / coefficient for x1\n",
    "true_thetas = np.array([[theta0, theta1]]) # Put theta coefficients into a vector\n",
    "Y = theta0*x0 + theta1*x1 + noise # Linear equation for true Y \n",
    "#Y = np.matmul(true_thetas, X.T) # Matrix equation for true Y\n",
    "print(Y.shape)"
   ]
  },
  {
   "cell_type": "markdown",
   "metadata": {},
   "source": [
    "# Plot Training Data"
   ]
  },
  {
   "cell_type": "code",
   "execution_count": 401,
   "metadata": {},
   "outputs": [
    {
     "data": {
      "image/png": "[encoded data removed]",
      "text/plain": [
       "<Figure size 432x288 with 1 Axes>"
      ]
     },
     "metadata": {},
     "output_type": "display_data"
    }
   ],
   "source": [
    "plt.scatter(X[:, 1], Y)\n",
    "plt.xlabel('X1 values')\n",
    "plt.ylabel('Response (Y) values')\n",
    "plt.title('Training Data to do Linear Regression on')\n",
    "plt.show()"
   ]
  },
  {
   "cell_type": "markdown",
   "metadata": {},
   "source": [
    "# Cost Function\n",
    "Mean Squared Error (MSE) Cost function defined in class:\n",
    "\n",
    "$$\\Large Cost = \\dfrac{1}{2N} \\sum_{i=1}^{N} { (y_{pred_i} - y_{true_i})^2 }$$\n",
    "\n",
    "Essentially just computing how far each prediction is from the true value"
   ]
  },
  {
   "cell_type": "code",
   "execution_count": 402,
   "metadata": {},
   "outputs": [],
   "source": [
    "def computeCost(X, y, theta):\n",
    "    inner = np.power(((X @ theta.T) - y), 2) # @ means matrix multiplication of arrays. If we want to use * for multiplication we will have to convert all arrays to matrices\n",
    "    return np.sum(inner) / (2 * len(X))"
   ]
  },
  {
   "cell_type": "markdown",
   "metadata": {},
   "source": [
    "# Function to Optimize Cost/Loss (Gradient Descent)\n",
    "\n",
    "Repeat for K iterations or until convergence:\n",
    "\n",
    "$$ \\Large \\theta = \\theta - \\frac{\\partial}{\\partial \\theta} \\Bigg[ \\dfrac{\\alpha}{2N} \\sum_{i=1}^{N} { (y_{pred_i} - y_{true_i})^2 } \\Bigg] $$\n",
    "\n",
    "$$ \\Large \\theta = \\theta - \\dfrac{\\alpha}{N} \\sum_{i=1}^{N} { (y_{pred_i} - y_{true_i}) * X } $$"
   ]
  },
  {
   "cell_type": "code",
   "execution_count": 408,
   "metadata": {},
   "outputs": [],
   "source": [
    "def gradientDescent(X, y, theta=None, alpha=0.001, iters=100):\n",
    "    if theta is None:\n",
    "        # Set the seed for reproducibility\n",
    "        np.random.seed(12345)\n",
    "        theta = np.random.randn(1, 2)\n",
    "        \n",
    "    for i in range(iters):\n",
    "        theta = theta - (alpha/len(X)) * np.sum((X @ theta.T - y) * X, axis=0)\n",
    "        cost = computeCost(X, y, theta)\n",
    "        \n",
    "        if i % 100 == 0: # just look at cost every ten loops for debugging\n",
    "            print('Iteration {}:    Cost = {}'.format(i, cost))\n",
    "            \n",
    "    return (theta, cost)"
   ]
  },
  {
   "cell_type": "markdown",
   "metadata": {},
   "source": [
    "# Fitting our Model"
   ]
  },
  {
   "cell_type": "code",
   "execution_count": 409,
   "metadata": {},
   "outputs": [],
   "source": [
    "# Hyperparameters\n",
    "iterations = 2000 # Number of times to repeat gradient descent\n",
    "alpha = 0.001 # Learning Rate"
   ]
  },
  {
   "cell_type": "code",
   "execution_count": 410,
   "metadata": {},
   "outputs": [
    {
     "name": "stdout",
     "output_type": "stream",
     "text": [
      "Iteration 0:    Cost = 0.6088747389735317\n",
      "Iteration 100:    Cost = 0.5809574482751166\n",
      "Iteration 200:    Cost = 0.5584913579998116\n",
      "Iteration 300:    Cost = 0.5404120453199738\n",
      "Iteration 400:    Cost = 0.5258629321773909\n",
      "Iteration 500:    Cost = 0.5141547001785066\n",
      "Iteration 600:    Cost = 0.5047326304423173\n",
      "Iteration 700:    Cost = 0.49715032090714145\n",
      "Iteration 800:    Cost = 0.4910485357807227\n",
      "Iteration 900:    Cost = 0.486138184989939\n",
      "Iteration 1000:    Cost = 0.48218662717402405\n",
      "Iteration 1100:    Cost = 0.47900664724093667\n",
      "Iteration 1200:    Cost = 0.47644758623199623\n",
      "Iteration 1300:    Cost = 0.47438820321976516\n",
      "Iteration 1400:    Cost = 0.47273093103048747\n",
      "Iteration 1500:    Cost = 0.4713972536236943\n",
      "Iteration 1600:    Cost = 0.47032398610708925\n",
      "Iteration 1700:    Cost = 0.4694602811326636\n",
      "Iteration 1800:    Cost = 0.46876521983662867\n",
      "Iteration 1900:    Cost = 0.46820587318191387\n"
     ]
    }
   ],
   "source": [
    "# Set random seed for reproducibility\n",
    "np.random.seed(12345)\n",
    "# Get random values for theta0 and theta1 to start with\n",
    "starting_thetas = np.random.randn(1, 2)\n",
    "# Get optimized theta0 and theta1 values by minimizing Cost Function via Gradient Descent\n",
    "fitted_thetas, cost = gradientDescent(X, Y, starting_thetas, alpha, iterations)"
   ]
  },
  {
   "cell_type": "code",
   "execution_count": 411,
   "metadata": {},
   "outputs": [
    {
     "name": "stdout",
     "output_type": "stream",
     "text": [
      "Fitted_Thetas: [[-0.053334    0.90830155]]\n",
      "True Thetas: [[0. 1.]]\n"
     ]
    }
   ],
   "source": [
    "print('Fitted_Thetas:', fitted_thetas)\n",
    "print('True Thetas:', true_thetas)"
   ]
  },
  {
   "cell_type": "markdown",
   "metadata": {},
   "source": [
    "# Compare Fitted Model to True Data"
   ]
  },
  {
   "cell_type": "code",
   "execution_count": 412,
   "metadata": {},
   "outputs": [
    {
     "data": {
      "image/png": "[encoded data removed]",
      "text/plain": [
       "<Figure size 432x288 with 1 Axes>"
      ]
     },
     "metadata": {},
     "output_type": "display_data"
    }
   ],
   "source": [
    "plt.scatter(X[:, 1], Y) # True data\n",
    "axes = plt.gca()\n",
    "x_vals = np.array(axes.get_xlim()) # Get range of x-axis\n",
    "y_pred = fitted_thetas[0][0] + fitted_thetas[0][1]*x_vals\n",
    "y_true = theta[0][0] + theta[0][1]*x_vals\n",
    "# Plot properties\n",
    "plt.plot(x_vals, y_pred, 'g--') # Predicted line of best fit from model\n",
    "plt.plot(x_vals, y_true, 'r--') # True line of best fit\n",
    "plt.legend(['Predicted Values', 'True Values'])\n",
    "plt.title('Linear Regression on Random Sample Data')\n",
    "plt.ylabel('Y values')\n",
    "plt.xlabel('X1 values')\n",
    "plt.show()"
   ]
  },
  {
   "cell_type": "markdown",
   "metadata": {},
   "source": [
    "# Your Turn\n",
    "We successfully fitted a model to this training data\n",
    "\n",
    "**Now try seeing how this model performs on different testing data...**"
   ]
  },
  {
   "cell_type": "code",
   "execution_count": 398,
   "metadata": {},
   "outputs": [],
   "source": [
    "# Create test data (Similar to training set up top)\n",
    "\n",
    "# Predict test data y values using the fitted model \n",
    "# (no gradient descent or anything needed, we already have the fitted thetas)\n",
    "\n",
    "# Compare the predicted y_test values to the true y_test values (Plot it or whatever you want)\n"
   ]
  }
 ],
 "metadata": {
  "kernelspec": {
   "display_name": "Python 3",
   "language": "python",
   "name": "python3"
  },
  "language_info": {
   "codemirror_mode": {
    "name": "ipython",
    "version": 3
   },
   "file_extension": ".py",
   "mimetype": "text/x-python",
   "name": "python",
   "nbconvert_exporter": "python",
   "pygments_lexer": "ipython3",
   "version": "3.6.5"
  }
 },
 "nbformat": 4,
 "nbformat_minor": 2
}
