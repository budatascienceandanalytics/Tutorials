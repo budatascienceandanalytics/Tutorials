{
 "cells": [
  {
   "cell_type": "markdown",
   "metadata": {},
   "source": [
    "# Disclaimer\n",
    "1. Use `Shift` + `Enter` to run the code inside of your current cell in Jupyter Notebook\n",
    "2. The `print()` function in Python lets us print out the value of a certain variable we are interested in by doing `print(<some_variable_name>)`"
   ]
  },
  {
   "cell_type": "markdown",
   "metadata": {},
   "source": [
    "# Core philosophy of Python\n",
    "* Beautiful is better than ugly\n",
    "* Explicit is better than implicit\n",
    "* Simple is better than complex\n",
    "* Complex is better than complicated\n",
    "* Readability counts\n",
    "\n",
    "(Source: The Zen of Python)\n",
    "\n",
    "# Why are we learning Python?\n",
    "* Code Readability\n",
    "* Open Source\n",
    "* Libraries (All packaged into one language)\n",
    "    * **Numpy** - Fast computation like MATLAB\n",
    "    * **Pandas** - Data Frame usage like R\n",
    "    * **Scikit-Learn** - Easy Machine Learning algorithm implementation"
   ]
  },
  {
   "cell_type": "markdown",
   "metadata": {},
   "source": [
    "# Variables\n",
    "Just like in mathematics, we use variables to assign a value to a name. There are some rules for\n",
    "this:\n",
    "\n",
    "1. Variable names must start with a letter or an underscore\n",
    "2. Following the initial letter or underscore, the remainder of the variable must consist of letters, underscores, or numbers\n",
    "3. Variable names are case sensitive\n",
    "\n",
    "Readability is key with variable names, and makes programming much easier. Try to use\n",
    "relevant and descriptive names, for example:\n",
    "\n",
    "```\n",
    "age = 21\n",
    "first_name = 'Ryan'\n",
    "pi = 3.14159\n",
    "```"
   ]
  },
  {
   "cell_type": "markdown",
   "metadata": {},
   "source": [
    "# Numbers\n",
    "There are 2 main types of numbers in Python: `int` (integers) and `float` (real/decimal numbers). \n",
    "\n",
    "**Example ints: -6, 0, 44, 2346**\n",
    "\n",
    "**Example floats: 9.2, -1.3, 8.0**\n",
    "\n",
    "In order to manipulate, or change, the value of numbers, use these operations: \n",
    "* \\+ (Addition)\n",
    "* \\- (Subtraction)\n",
    "* \\* (Multiplication)\n",
    "* / (Division)\n",
    "\n",
    "## Practice\n",
    "\\# Lines starting with a '#' are line comments, and are not executed\n",
    "\n",
    "''' Lines surrounded by three (single or double) quotes are block comments, and are not executed '''"
   ]
  },
  {
   "cell_type": "code",
   "execution_count": 36,
   "metadata": {},
   "outputs": [
    {
     "name": "stdout",
     "output_type": "stream",
     "text": [
      "7\n"
     ]
    }
   ],
   "source": [
    "'''\n",
    "PRACTICE: Do the following in Python code.\n",
    "\n",
    "1) Create a variable named \"num_weekend_days\" which has a value of 2\n",
    "2) Create a variable named \"num_week_days\" which has a value of 5\n",
    "3) Create a variable named \"full_week\" which has a value equal to the sum of \"num_weekend_days\" and \"num_week_days\"\n",
    "'''\n",
    "\n",
    "# Write your code here.\n",
    "num_weekend_days = 2\n",
    "num_weekdays = 5\n",
    "full_week = num_weekend_days + num_weekdays\n",
    "print(full_week)"
   ]
  },
  {
   "cell_type": "markdown",
   "metadata": {},
   "source": [
    "# Strings\n",
    "Strings are continuous sets of characters wrapped in double or single quotes\n",
    "\n",
    "**Example:** `“Hello World!”` and `‘This is a string’` are both strings\n",
    "\n",
    "**Syntax:** You can define strings the same way you defined numbers, but they must be in a set of\n",
    "single quotes or double quotes.\n",
    "\n",
    "We use the command `print()` to print out the value of the string. Inside the parenthesis, we can use\n",
    "the `+` operator to combine two strings or the `,` (comma) operator to\n",
    "concatenate the string with anything and a space inserted in the middle.\n",
    "\n",
    "## Example"
   ]
  },
  {
   "cell_type": "code",
   "execution_count": 41,
   "metadata": {},
   "outputs": [
    {
     "name": "stdout",
     "output_type": "stream",
     "text": [
      "My Greeting is: Goodbye\n"
     ]
    }
   ],
   "source": [
    "greeting = 'Hello Everyone!'\n",
    "question = 'How are you?'\n",
    "#print(greeting)\n",
    "#print(greeting + question)\n",
    "#print(greeting, question)\n",
    "#print('My Greeting is:', greeting)\n",
    "greeting = 'Goodbye'\n",
    "print('My Greeting is:', greeting)"
   ]
  },
  {
   "cell_type": "markdown",
   "metadata": {},
   "source": [
    "## Practice\n",
    "Write some Python code to:\n",
    "\n",
    "1. Store your first and last name into a string variable called `name`\n",
    "2. Print the following message: **Hi, my name is YOUR_NAME_HERE** \n",
    "    * Use your `name` variable, the `print()` function, and the `,` (comma) operator to print out the message"
   ]
  },
  {
   "cell_type": "code",
   "execution_count": 14,
   "metadata": {},
   "outputs": [],
   "source": [
    "# Write your code here.\n",
    "pass"
   ]
  },
  {
   "cell_type": "markdown",
   "metadata": {},
   "source": [
    "# Indexing Strings\n",
    "You can also access individual characters in a string by using their `index`. \n",
    "\n",
    "For example, the string `greeting = \"hello\"`. `hello` has 5 characters in it. In most languages, the first element of a sequence **starts at index 0**.\n",
    "\n",
    "To access the index of a sequence, we use the `[]` operator, which is used like this: `variable[index]` to access the `index` of `variable`\n",
    "* greeting[0]       # This is 'h'\n",
    "* greeting[1]       # This is 'e'\n",
    "* greeting[2]       # This is 'l'\n",
    "* greeting[3]       # This is 'l'\n",
    "* greeting[4]       # This is 'o'\n",
    "\n",
    "To access the `first` character of our string, we can get the `0th index`.\n",
    "\n",
    "To access the `n`-th character of our string, we can get the `(n-1)`-th index:\n",
    "\n",
    "## Practice\n",
    "1. Create variables called `firstname` and `lastname` with values of your first name and your last name respectively\n",
    "2. `print()` out your initials using the `firstname` and `lastname` variables.\n",
    "    * HINT: The first character of a variable can be accessed using `indexing` with the `[]` operator as seen above"
   ]
  },
  {
   "cell_type": "code",
   "execution_count": 16,
   "metadata": {},
   "outputs": [],
   "source": [
    "# Create firstname/lastname variables here\n",
    "\n",
    "# Print out your initials here"
   ]
  },
  {
   "cell_type": "markdown",
   "metadata": {},
   "source": [
    "# Lists\n",
    "Lists are Python’s most versatile of python’s data types, lists are defined as a group of elements that\n",
    "can be of any data type. One key component of lists is that they are mutable, meaning they can\n",
    "be updated or changed at any time.\n",
    "\n",
    "Syntax: Lists can have any name you like, just like with other variables, but the items of your list\n",
    "must be stored in square brackets, and separated by commas\n",
    "\n",
    "## Example"
   ]
  },
  {
   "cell_type": "code",
   "execution_count": 42,
   "metadata": {},
   "outputs": [
    {
     "name": "stdout",
     "output_type": "stream",
     "text": [
      "['my', 123, 'list', 456, 'is', 789.0, 'this']\n"
     ]
    }
   ],
   "source": [
    "my_list = [ 'my', 123, 'list', 456, 'is', 789.0, 'this' ]\n",
    "print(my_list)"
   ]
  },
  {
   "cell_type": "markdown",
   "metadata": {},
   "source": [
    "## List Indexing\n",
    "Lists can also be indexed, the same way that strings can. In fact, anything that can be indexed is called an `iterable`"
   ]
  },
  {
   "cell_type": "code",
   "execution_count": 44,
   "metadata": {},
   "outputs": [
    {
     "name": "stdout",
     "output_type": "stream",
     "text": [
      "789.0\n"
     ]
    }
   ],
   "source": [
    "print(my_list[5]) #prints 3rd index (4th element) of list"
   ]
  },
  {
   "cell_type": "markdown",
   "metadata": {},
   "source": [
    "## List Methods\n",
    "Lists have built-in methods to do things like add, remove, change elements\n",
    "* `my_list.append(element)` adds `element` to the end of our list called `my_list`\n",
    "* `my_list.insert(index, element)` inserts `element` into the index `index` of `my_list`\n",
    "* `my_list.remove(element)` removes `element` from `my_list`\n",
    "\n",
    "### Example"
   ]
  },
  {
   "cell_type": "code",
   "execution_count": 45,
   "metadata": {},
   "outputs": [
    {
     "name": "stdout",
     "output_type": "stream",
     "text": [
      "['my', 123, 'list', 456, 'is', 789.0, 'this']\n"
     ]
    }
   ],
   "source": [
    "print(my_list)"
   ]
  },
  {
   "cell_type": "code",
   "execution_count": 46,
   "metadata": {},
   "outputs": [
    {
     "name": "stdout",
     "output_type": "stream",
     "text": [
      "BEFORE: ['my', 123, 'list', 456, 'is', 789.0, 'this']\n",
      "AFTER: ['my', 123, 'list', 456, 'is', 789.0, 'this', 123456]\n"
     ]
    }
   ],
   "source": [
    "print(\"BEFORE:\", my_list)\n",
    "my_list.append(123456)\n",
    "print(\"AFTER:\", my_list)"
   ]
  },
  {
   "cell_type": "code",
   "execution_count": 47,
   "metadata": {},
   "outputs": [
    {
     "name": "stdout",
     "output_type": "stream",
     "text": [
      "BEFORE: ['my', 123, 'list', 456, 'is', 789.0, 'this', 123456]\n",
      "AFTER: ['WOW', 'my', 123, 'list', 456, 'is', 789.0, 'this', 123456]\n"
     ]
    }
   ],
   "source": [
    "print(\"BEFORE:\", my_list)\n",
    "my_list.insert(0, 'WOW') #insert ‘WOW’ into index 0 of my_list\n",
    "print(\"AFTER:\", my_list)"
   ]
  },
  {
   "cell_type": "code",
   "execution_count": 48,
   "metadata": {},
   "outputs": [
    {
     "name": "stdout",
     "output_type": "stream",
     "text": [
      "BEFORE: ['WOW', 'my', 123, 'list', 456, 'is', 789.0, 'this', 123456]\n",
      "AFTER: ['WOW', 'my', 123, 'list', 456, 'is', 'this', 123456]\n"
     ]
    }
   ],
   "source": [
    "print(\"BEFORE:\", my_list)\n",
    "my_list.remove(789.0)\n",
    "print(\"AFTER:\", my_list)"
   ]
  },
  {
   "cell_type": "markdown",
   "metadata": {},
   "source": [
    "## Example"
   ]
  },
  {
   "cell_type": "code",
   "execution_count": 53,
   "metadata": {},
   "outputs": [
    {
     "name": "stdout",
     "output_type": "stream",
     "text": [
      "[]\n",
      "[1, 2]\n"
     ]
    }
   ],
   "source": [
    "# Create a list of the numbers from 1 to 5\n",
    "# Append the number 6 to the list\n",
    "# Insert the number 0 to the list\n",
    "# Remove the number 3 from the list\n",
    "empty_list = []\n",
    "print(empty_list)\n",
    "empty_list.append(1)\n",
    "empty_list.append(2)\n",
    "print(empty_list)"
   ]
  },
  {
   "cell_type": "code",
   "execution_count": 55,
   "metadata": {},
   "outputs": [],
   "source": [
    "my_list = [1, 2]\n",
    "my_list.append(2)"
   ]
  },
  {
   "cell_type": "markdown",
   "metadata": {},
   "source": [
    "## Dictionaries\n",
    "Dictionaries are another way of storing data. They store key-value pairs. \n",
    "\n",
    "Keys are generally a number or a name which are used to point to any other type of data\n",
    "\n",
    "Syntax: Instead of square brackets, we use curly braces `{}` . Inside of the curly\n",
    "braces, we have something like this `key1 : value1, key2 : value2`, where we use commas to separate pairs of data.\n",
    "\n",
    "## Dictionary Indexing\n",
    "Dictionaries have a different style from lists. Instead of accessing elements by using a number `index`, we access elements by using a `key` to get an associated `value`.\n",
    "\n",
    "### Example"
   ]
  },
  {
   "cell_type": "code",
   "execution_count": 65,
   "metadata": {},
   "outputs": [
    {
     "name": "stdout",
     "output_type": "stream",
     "text": [
      "Tony Stark\n"
     ]
    }
   ],
   "source": [
    "superhero_dict = {\n",
    "'Iron Man': 'Tony Stark',\n",
    "'Captain America': 'Steve Rogers',\n",
    "'Superman': 'Clark Kent',\n",
    "'Spiderman': 'Peter Parker'}\n",
    "\n",
    "print(superhero_dict['Iron Man'])"
   ]
  },
  {
   "cell_type": "code",
   "execution_count": 66,
   "metadata": {},
   "outputs": [
    {
     "name": "stdout",
     "output_type": "stream",
     "text": [
      "AFTER: {'Iron Man': 'Tony Stark', 'Captain America': 'Steve Rogers', 'Spiderman': 'Peter Parker', 'Deadpool': 'Wade Wilson'}\n"
     ]
    }
   ],
   "source": [
    "# To add an element\n",
    "superhero_dict['Deadpool'] = 'Wade Wilson'\n",
    "#print('AFTER:', superhero_dict)\n",
    "\n",
    "# To delete an element\n",
    "del superhero_dict['Superman']\n",
    "print('AFTER:', superhero_dict)"
   ]
  },
  {
   "cell_type": "code",
   "execution_count": 67,
   "metadata": {},
   "outputs": [
    {
     "name": "stdout",
     "output_type": "stream",
     "text": [
      "2\n",
      "7\n",
      "5\n"
     ]
    }
   ],
   "source": [
    "var1 = 2\n",
    "var3 = 5\n",
    "\n",
    "print(var1)\n",
    "var1 = 7\n",
    "print(var1)\n",
    "print(var3)"
   ]
  },
  {
   "cell_type": "code",
   "execution_count": 77,
   "metadata": {},
   "outputs": [
    {
     "name": "stdout",
     "output_type": "stream",
     "text": [
      "I like Data Science\n"
     ]
    }
   ],
   "source": [
    "name = 'Ryan'\n",
    "\n",
    "if name == 'Ryan':\n",
    "    print('I like Data Science')\n",
    "else:\n",
    "    print('I like Math')"
   ]
  },
  {
   "cell_type": "code",
   "execution_count": 76,
   "metadata": {},
   "outputs": [
    {
     "name": "stdout",
     "output_type": "stream",
     "text": [
      "False\n",
      "True\n",
      "False\n",
      "True\n"
     ]
    }
   ],
   "source": [
    "# Comparison Operators\n",
    "# <, >, <=, >=, == (equal), != (not equal)\n",
    "print(3 > 5)\n",
    "print(10 > 5)\n",
    "print(3 == 5)\n",
    "print(3 != 5)"
   ]
  },
  {
   "cell_type": "markdown",
   "metadata": {},
   "source": [
    "## Practice"
   ]
  },
  {
   "cell_type": "code",
   "execution_count": 78,
   "metadata": {},
   "outputs": [
    {
     "name": "stdout",
     "output_type": "stream",
     "text": [
      "HackBU\n"
     ]
    }
   ],
   "source": [
    "# Pick a number between 1 - 10 and save it to a variable\n",
    "# print BUDSA if your number is less than 5\n",
    "# print HackBU otherwise\n",
    "number = 7\n",
    "\n",
    "if number < 5:\n",
    "    print('BUDSA')\n",
    "else:\n",
    "    print('HackBU')"
   ]
  },
  {
   "cell_type": "code",
   "execution_count": 81,
   "metadata": {},
   "outputs": [
    {
     "name": "stdout",
     "output_type": "stream",
     "text": [
      "test\n"
     ]
    }
   ],
   "source": [
    "if number < 8:\n",
    "    print('test')\n"
   ]
  },
  {
   "cell_type": "markdown",
   "metadata": {},
   "source": [
    "# Loops\n",
    "Save us work.\n",
    "\n",
    "## For Loops\n",
    "```\n",
    "for i in range(10):\n",
    "    print(i)\n",
    "```\n",
    "\n",
    "## While Loops"
   ]
  },
  {
   "cell_type": "code",
   "execution_count": 83,
   "metadata": {},
   "outputs": [
    {
     "name": "stdout",
     "output_type": "stream",
     "text": [
      "0\n",
      "1\n",
      "2\n",
      "3\n",
      "4\n",
      "5\n",
      "6\n",
      "7\n",
      "8\n",
      "9\n"
     ]
    }
   ],
   "source": [
    "# range(endpoint) -> all numbers from [0, end)\n",
    "# range(startpoint, endpoint)\n",
    "# range(start, end, increment_value)\n",
    "for i in range(10):\n",
    "    print(i)"
   ]
  },
  {
   "cell_type": "code",
   "execution_count": 84,
   "metadata": {},
   "outputs": [
    {
     "name": "stdout",
     "output_type": "stream",
     "text": [
      "3\n",
      "4\n",
      "5\n",
      "6\n"
     ]
    }
   ],
   "source": [
    "# range(startpoint, endpoint)\n",
    "for i in range(3, 7):\n",
    "    print(i)"
   ]
  },
  {
   "cell_type": "code",
   "execution_count": 85,
   "metadata": {},
   "outputs": [
    {
     "name": "stdout",
     "output_type": "stream",
     "text": [
      "0\n",
      "2\n",
      "4\n",
      "6\n",
      "8\n",
      "10\n"
     ]
    }
   ],
   "source": [
    "# range(start, end, increment_value)\n",
    "for i in range(0, 11, 2):\n",
    "    print(i)"
   ]
  },
  {
   "cell_type": "markdown",
   "metadata": {},
   "source": [
    "## Practice"
   ]
  },
  {
   "cell_type": "code",
   "execution_count": 92,
   "metadata": {},
   "outputs": [
    {
     "name": "stdout",
     "output_type": "stream",
     "text": [
      "1\n",
      "3\n",
      "5\n",
      "7\n",
      "9\n",
      "11\n",
      "13\n",
      "15\n"
     ]
    }
   ],
   "source": [
    "# Write a for loop to print all the odd numbers between 1 and 15\n",
    "for i in range(1, 16, 2): # iteration\n",
    "    print(i)"
   ]
  },
  {
   "cell_type": "code",
   "execution_count": 98,
   "metadata": {},
   "outputs": [
    {
     "name": "stdout",
     "output_type": "stream",
     "text": [
      "55\n"
     ]
    }
   ],
   "source": [
    "# Add up all the numbers from 1 to 10\n",
    "total = 0\n",
    "x = 0\n",
    "\n",
    "for i in range(1, 11): #include 10\n",
    "    total = total + i\n",
    "    \n",
    "print(total)\n",
    "# total = 0 + 1\n",
    "# total = 0 + 2\n",
    "\n",
    "# total = 0 + 10\n",
    "# total = 10"
   ]
  },
  {
   "cell_type": "markdown",
   "metadata": {},
   "source": [
    "## Practice"
   ]
  },
  {
   "cell_type": "code",
   "execution_count": null,
   "metadata": {},
   "outputs": [],
   "source": [
    "# Get the product of the numbers from 1 to 5 ( 5! -> 5 Factorial)\n",
    "# using a for loop\n",
    "\n",
    "# Create a variable to keep track of our product\n",
    "\n",
    "# Loop for every number (i) from 1 to 5\n",
    "# Update our variable by multiplying by (i)"
   ]
  },
  {
   "cell_type": "markdown",
   "metadata": {},
   "source": [
    "# While Loops\n",
    "With a for loop, we loop based on the range of numbers we define.\n",
    "\n",
    "for i in range(10): -> we loop 10 times\n",
    "\n",
    "With while loops, we loop based on a condition."
   ]
  },
  {
   "cell_type": "code",
   "execution_count": 103,
   "metadata": {},
   "outputs": [
    {
     "name": "stdout",
     "output_type": "stream",
     "text": [
      "0\n",
      "1\n",
      "2\n",
      "3\n",
      "4\n",
      "5\n",
      "6\n",
      "7\n",
      "8\n",
      "9\n"
     ]
    }
   ],
   "source": [
    "i = 0\n",
    "while i < 10:\n",
    "    print(i)\n",
    "    i = i + 1"
   ]
  },
  {
   "cell_type": "code",
   "execution_count": 100,
   "metadata": {},
   "outputs": [
    {
     "name": "stdout",
     "output_type": "stream",
     "text": [
      "0\n",
      "1\n",
      "2\n",
      "3\n",
      "4\n",
      "5\n",
      "6\n",
      "7\n",
      "8\n",
      "9\n"
     ]
    }
   ],
   "source": [
    "# i = 0\n",
    "# i = i + 1 # 10 times\n",
    "for i in range(10):\n",
    "    print(i)"
   ]
  },
  {
   "cell_type": "code",
   "execution_count": 102,
   "metadata": {},
   "outputs": [
    {
     "data": {
      "text/plain": [
       "[0, 1, 2, 3, 4, 5, 6, 7, 8, 9]"
      ]
     },
     "execution_count": 102,
     "metadata": {},
     "output_type": "execute_result"
    }
   ],
   "source": [
    "list(range(10))"
   ]
  },
  {
   "cell_type": "code",
   "execution_count": 104,
   "metadata": {},
   "outputs": [
    {
     "name": "stdout",
     "output_type": "stream",
     "text": [
      "6\n",
      "5\n",
      "4\n",
      "3\n"
     ]
    }
   ],
   "source": [
    "i = 6\n",
    "\n",
    "while i > 2:\n",
    "    print(i)\n",
    "    i = i - 1"
   ]
  },
  {
   "cell_type": "code",
   "execution_count": 105,
   "metadata": {},
   "outputs": [
    {
     "name": "stdout",
     "output_type": "stream",
     "text": [
      "6\n",
      "5\n",
      "4\n",
      "3\n"
     ]
    }
   ],
   "source": [
    "for i in range(6, 2, -1):\n",
    "    print(i)"
   ]
  },
  {
   "cell_type": "markdown",
   "metadata": {},
   "source": [
    "## Functions\n",
    "A way to write portable code that you can re-use repeatedly"
   ]
  },
  {
   "cell_type": "code",
   "execution_count": 109,
   "metadata": {},
   "outputs": [
    {
     "name": "stdout",
     "output_type": "stream",
     "text": [
      "RM\n"
     ]
    }
   ],
   "source": [
    "first = 'Ryan'\n",
    "last = 'McCormick'\n",
    "initials = first[0] + last[0]\n",
    "print(initials)"
   ]
  },
  {
   "cell_type": "code",
   "execution_count": 110,
   "metadata": {},
   "outputs": [
    {
     "name": "stdout",
     "output_type": "stream",
     "text": [
      "AL\n"
     ]
    }
   ],
   "source": [
    "first = 'Allison'\n",
    "last = 'Lee'\n",
    "initials = first[0] + last[0]\n",
    "print(initials)"
   ]
  },
  {
   "cell_type": "code",
   "execution_count": 111,
   "metadata": {},
   "outputs": [],
   "source": [
    "def get_initials(first, last):\n",
    "    return first[0] + last[0]"
   ]
  },
  {
   "cell_type": "code",
   "execution_count": 112,
   "metadata": {},
   "outputs": [
    {
     "data": {
      "text/plain": [
       "'RM'"
      ]
     },
     "execution_count": 112,
     "metadata": {},
     "output_type": "execute_result"
    }
   ],
   "source": [
    "get_initials(\"Ryan\", \"McCormick\")"
   ]
  },
  {
   "cell_type": "code",
   "execution_count": 113,
   "metadata": {},
   "outputs": [
    {
     "data": {
      "text/plain": [
       "'AL'"
      ]
     },
     "execution_count": 113,
     "metadata": {},
     "output_type": "execute_result"
    }
   ],
   "source": [
    "get_initials(\"Allison\", \"Lee\")"
   ]
  },
  {
   "cell_type": "markdown",
   "metadata": {},
   "source": [
    "## Indexing"
   ]
  },
  {
   "cell_type": "code",
   "execution_count": 116,
   "metadata": {},
   "outputs": [
    {
     "name": "stdout",
     "output_type": "stream",
     "text": [
      "[5, 7, 6, 10]\n",
      "6\n"
     ]
    }
   ],
   "source": [
    "my_list = [5, 7, 6, 10]\n",
    "print(my_list)\n",
    "print(my_list[2])"
   ]
  },
  {
   "cell_type": "markdown",
   "metadata": {},
   "source": [
    "## Practice"
   ]
  },
  {
   "cell_type": "code",
   "execution_count": 117,
   "metadata": {},
   "outputs": [
    {
     "data": {
      "text/plain": [
       "10"
      ]
     },
     "execution_count": 117,
     "metadata": {},
     "output_type": "execute_result"
    }
   ],
   "source": [
    "# Write a function called perimeter(sides) that takes in a \n",
    "# list of 4 numbers called \"sides\", and returns the sum of \n",
    "# those sides\n",
    "def perimeter(sides: list):\n",
    "    # you write code here to add the sides of the list together\n",
    "    return sides[0] + sides[1] + sides[2] + sides[3]\n",
    "\n",
    "my_list = [1, 2, 3, 4]\n",
    "perimeter(my_list)"
   ]
  },
  {
   "cell_type": "code",
   "execution_count": 118,
   "metadata": {},
   "outputs": [
    {
     "ename": "IndexError",
     "evalue": "list index out of range",
     "output_type": "error",
     "traceback": [
      "\u001b[0;31m---------------------------------------------------------------------------\u001b[0m",
      "\u001b[0;31mIndexError\u001b[0m                                Traceback (most recent call last)",
      "\u001b[0;32m<ipython-input-118-bfc6df80e2d7>\u001b[0m in \u001b[0;36m<module>\u001b[0;34m()\u001b[0m\n\u001b[1;32m      1\u001b[0m \u001b[0manother_list\u001b[0m \u001b[0;34m=\u001b[0m \u001b[0;34m[\u001b[0m\u001b[0;36m1\u001b[0m\u001b[0;34m,\u001b[0m \u001b[0;36m2\u001b[0m\u001b[0;34m]\u001b[0m\u001b[0;34m\u001b[0m\u001b[0m\n\u001b[0;32m----> 2\u001b[0;31m \u001b[0mperimeter\u001b[0m\u001b[0;34m(\u001b[0m\u001b[0manother_list\u001b[0m\u001b[0;34m)\u001b[0m\u001b[0;34m\u001b[0m\u001b[0m\n\u001b[0m",
      "\u001b[0;32m<ipython-input-117-4c409cbea538>\u001b[0m in \u001b[0;36mperimeter\u001b[0;34m(sides)\u001b[0m\n\u001b[1;32m      4\u001b[0m \u001b[0;32mdef\u001b[0m \u001b[0mperimeter\u001b[0m\u001b[0;34m(\u001b[0m\u001b[0msides\u001b[0m\u001b[0;34m:\u001b[0m \u001b[0mlist\u001b[0m\u001b[0;34m)\u001b[0m\u001b[0;34m:\u001b[0m\u001b[0;34m\u001b[0m\u001b[0m\n\u001b[1;32m      5\u001b[0m     \u001b[0;31m# you write code here to add the sides of the list together\u001b[0m\u001b[0;34m\u001b[0m\u001b[0;34m\u001b[0m\u001b[0m\n\u001b[0;32m----> 6\u001b[0;31m     \u001b[0;32mreturn\u001b[0m \u001b[0msides\u001b[0m\u001b[0;34m[\u001b[0m\u001b[0;36m0\u001b[0m\u001b[0;34m]\u001b[0m \u001b[0;34m+\u001b[0m \u001b[0msides\u001b[0m\u001b[0;34m[\u001b[0m\u001b[0;36m1\u001b[0m\u001b[0;34m]\u001b[0m \u001b[0;34m+\u001b[0m \u001b[0msides\u001b[0m\u001b[0;34m[\u001b[0m\u001b[0;36m2\u001b[0m\u001b[0;34m]\u001b[0m \u001b[0;34m+\u001b[0m \u001b[0msides\u001b[0m\u001b[0;34m[\u001b[0m\u001b[0;36m3\u001b[0m\u001b[0;34m]\u001b[0m\u001b[0;34m\u001b[0m\u001b[0m\n\u001b[0m\u001b[1;32m      7\u001b[0m \u001b[0;34m\u001b[0m\u001b[0m\n\u001b[1;32m      8\u001b[0m \u001b[0mmy_list\u001b[0m \u001b[0;34m=\u001b[0m \u001b[0;34m[\u001b[0m\u001b[0;36m1\u001b[0m\u001b[0;34m,\u001b[0m \u001b[0;36m2\u001b[0m\u001b[0;34m,\u001b[0m \u001b[0;36m3\u001b[0m\u001b[0;34m,\u001b[0m \u001b[0;36m4\u001b[0m\u001b[0;34m]\u001b[0m\u001b[0;34m\u001b[0m\u001b[0m\n",
      "\u001b[0;31mIndexError\u001b[0m: list index out of range"
     ]
    }
   ],
   "source": [
    "another_list = [1, 2]\n",
    "perimeter(another_list)"
   ]
  },
  {
   "cell_type": "code",
   "execution_count": 122,
   "metadata": {},
   "outputs": [
    {
     "name": "stdout",
     "output_type": "stream",
     "text": [
      "5\n",
      "10\n",
      "20\n"
     ]
    }
   ],
   "source": [
    "my_list = [5, 10, 20]\n",
    "for i in my_list:\n",
    "    print(i)"
   ]
  },
  {
   "cell_type": "code",
   "execution_count": 123,
   "metadata": {},
   "outputs": [],
   "source": [
    "def perimeter(sides):\n",
    "    total = 0\n",
    "    for side in sides:\n",
    "        total = total + side\n",
    "        \n",
    "    return total"
   ]
  },
  {
   "cell_type": "code",
   "execution_count": 124,
   "metadata": {},
   "outputs": [
    {
     "data": {
      "text/plain": [
       "10"
      ]
     },
     "execution_count": 124,
     "metadata": {},
     "output_type": "execute_result"
    }
   ],
   "source": [
    "perimeter([1, 2, 3, 4])"
   ]
  },
  {
   "cell_type": "code",
   "execution_count": 125,
   "metadata": {},
   "outputs": [
    {
     "data": {
      "text/plain": [
       "131"
      ]
     },
     "execution_count": 125,
     "metadata": {},
     "output_type": "execute_result"
    }
   ],
   "source": [
    "perimeter([1, 2, 3, 4, 5, 6, 10, 100])"
   ]
  },
  {
   "cell_type": "code",
   "execution_count": 126,
   "metadata": {},
   "outputs": [
    {
     "data": {
      "text/plain": [
       "0"
      ]
     },
     "execution_count": 126,
     "metadata": {},
     "output_type": "execute_result"
    }
   ],
   "source": [
    "perimeter([])"
   ]
  },
  {
   "cell_type": "code",
   "execution_count": 127,
   "metadata": {},
   "outputs": [],
   "source": [
    "def perimeter(sides):\n",
    "    return sum(sides)"
   ]
  },
  {
   "cell_type": "code",
   "execution_count": 128,
   "metadata": {},
   "outputs": [
    {
     "data": {
      "text/plain": [
       "10"
      ]
     },
     "execution_count": 128,
     "metadata": {},
     "output_type": "execute_result"
    }
   ],
   "source": [
    "perimeter([1, 2, 3, 4])"
   ]
  },
  {
   "cell_type": "code",
   "execution_count": 131,
   "metadata": {},
   "outputs": [
    {
     "name": "stdout",
     "output_type": "stream",
     "text": [
      "[0, 1, 2, 3, 4, 5, 6, 7, 8, 9, 10, 11, 12, 13, 14, 15, 16, 17, 18, 19, 20, 21, 22, 23, 24, 25, 26, 27, 28, 29, 30, 31, 32, 33, 34, 35, 36, 37, 38, 39, 40, 41, 42, 43, 44, 45, 46, 47, 48, 49, 50, 51, 52, 53, 54, 55, 56, 57, 58, 59, 60, 61, 62, 63, 64, 65, 66, 67, 68, 69, 70, 71, 72, 73, 74, 75, 76, 77, 78, 79, 80, 81, 82, 83, 84, 85, 86, 87, 88, 89, 90, 91, 92, 93, 94, 95, 96, 97, 98, 99, 100, 101, 102, 103, 104, 105, 106, 107, 108, 109, 110, 111, 112, 113, 114, 115, 116, 117, 118, 119, 120, 121, 122, 123, 124, 125, 126, 127, 128, 129, 130, 131, 132, 133, 134, 135, 136, 137, 138, 139, 140, 141, 142, 143, 144, 145, 146, 147, 148, 149, 150, 151, 152, 153, 154, 155, 156, 157, 158, 159, 160, 161, 162, 163, 164, 165, 166, 167, 168, 169, 170, 171, 172, 173, 174, 175, 176, 177, 178, 179, 180, 181, 182, 183, 184, 185, 186, 187, 188, 189, 190, 191, 192, 193, 194, 195, 196, 197, 198, 199, 200, 201, 202, 203, 204, 205, 206, 207, 208, 209, 210, 211, 212, 213, 214, 215, 216, 217, 218, 219, 220, 221, 222, 223, 224, 225, 226, 227, 228, 229, 230, 231, 232, 233, 234, 235, 236, 237, 238, 239, 240, 241, 242, 243, 244, 245, 246, 247, 248, 249, 250, 251, 252, 253, 254, 255, 256, 257, 258, 259, 260, 261, 262, 263, 264, 265, 266, 267, 268, 269, 270, 271, 272, 273, 274, 275, 276, 277, 278, 279, 280, 281, 282, 283, 284, 285, 286, 287, 288, 289, 290, 291, 292, 293, 294, 295, 296, 297, 298, 299, 300, 301, 302, 303, 304, 305, 306, 307, 308, 309, 310, 311, 312, 313, 314, 315, 316, 317, 318, 319, 320, 321, 322, 323, 324, 325, 326, 327, 328, 329, 330, 331, 332, 333, 334, 335, 336, 337, 338, 339, 340, 341, 342, 343, 344, 345, 346, 347, 348, 349, 350, 351, 352, 353, 354, 355, 356, 357, 358, 359, 360, 361, 362, 363, 364, 365, 366, 367, 368, 369, 370, 371, 372, 373, 374, 375, 376, 377, 378, 379, 380, 381, 382, 383, 384, 385, 386, 387, 388, 389, 390, 391, 392, 393, 394, 395, 396, 397, 398, 399, 400, 401, 402, 403, 404, 405, 406, 407, 408, 409, 410, 411, 412, 413, 414, 415, 416, 417, 418, 419, 420, 421, 422, 423, 424, 425, 426, 427, 428, 429, 430, 431, 432, 433, 434, 435, 436, 437, 438, 439, 440, 441, 442, 443, 444, 445, 446, 447, 448, 449, 450, 451, 452, 453, 454, 455, 456, 457, 458, 459, 460, 461, 462, 463, 464, 465, 466, 467, 468, 469, 470, 471, 472, 473, 474, 475, 476, 477, 478, 479, 480, 481, 482, 483, 484, 485, 486, 487, 488, 489, 490, 491, 492, 493, 494, 495, 496, 497, 498, 499, 500, 501, 502, 503, 504, 505, 506, 507, 508, 509, 510, 511, 512, 513, 514, 515, 516, 517, 518, 519, 520, 521, 522, 523, 524, 525, 526, 527, 528, 529, 530, 531, 532, 533, 534, 535, 536, 537, 538, 539, 540, 541, 542, 543, 544, 545, 546, 547, 548, 549, 550, 551, 552, 553, 554, 555, 556, 557, 558, 559, 560, 561, 562, 563, 564, 565, 566, 567, 568, 569, 570, 571, 572, 573, 574, 575, 576, 577, 578, 579, 580, 581, 582, 583, 584, 585, 586, 587, 588, 589, 590, 591, 592, 593, 594, 595, 596, 597, 598, 599, 600, 601, 602, 603, 604, 605, 606, 607, 608, 609, 610, 611, 612, 613, 614, 615, 616, 617, 618, 619, 620, 621, 622, 623, 624, 625, 626, 627, 628, 629, 630, 631, 632, 633, 634, 635, 636, 637, 638, 639, 640, 641, 642, 643, 644, 645, 646, 647, 648, 649, 650, 651, 652, 653, 654, 655, 656, 657, 658, 659, 660, 661, 662, 663, 664, 665, 666, 667, 668, 669, 670, 671, 672, 673, 674, 675, 676, 677, 678, 679, 680, 681, 682, 683, 684, 685, 686, 687, 688, 689, 690, 691, 692, 693, 694, 695, 696, 697, 698, 699, 700, 701, 702, 703, 704, 705, 706, 707, 708, 709, 710, 711, 712, 713, 714, 715, 716, 717, 718, 719, 720, 721, 722, 723, 724, 725, 726, 727, 728, 729, 730, 731, 732, 733, 734, 735, 736, 737, 738, 739, 740, 741, 742, 743, 744, 745, 746, 747, 748, 749, 750, 751, 752, 753, 754, 755, 756, 757, 758, 759, 760, 761, 762, 763, 764, 765, 766, 767, 768, 769, 770, 771, 772, 773, 774, 775, 776, 777, 778, 779, 780, 781, 782, 783, 784, 785, 786, 787, 788, 789, 790, 791, 792, 793, 794, 795, 796, 797, 798, 799, 800, 801, 802, 803, 804, 805, 806, 807, 808, 809, 810, 811, 812, 813, 814, 815, 816, 817, 818, 819, 820, 821, 822, 823, 824, 825, 826, 827, 828, 829, 830, 831, 832, 833, 834, 835, 836, 837, 838, 839, 840, 841, 842, 843, 844, 845, 846, 847, 848, 849, 850, 851, 852, 853, 854, 855, 856, 857, 858, 859, 860, 861, 862, 863, 864, 865, 866, 867, 868, 869, 870, 871, 872, 873, 874, 875, 876, 877, 878, 879, 880, 881, 882, 883, 884, 885, 886, 887, 888, 889, 890, 891, 892, 893, 894, 895, 896, 897, 898, 899, 900, 901, 902, 903, 904, 905, 906, 907, 908, 909, 910, 911, 912, 913, 914, 915, 916, 917, 918, 919, 920, 921, 922, 923, 924, 925, 926, 927, 928, 929, 930, 931, 932, 933, 934, 935, 936, 937, 938, 939, 940, 941, 942, 943, 944, 945, 946, 947, 948, 949, 950, 951, 952, 953, 954, 955, 956, 957, 958, 959, 960, 961, 962, 963, 964, 965, 966, 967, 968, 969, 970, 971, 972, 973, 974, 975, 976, 977, 978, 979, 980, 981, 982, 983, 984, 985, 986, 987, 988, 989, 990, 991, 992, 993, 994, 995, 996, 997, 998, 999]\n"
     ]
    }
   ],
   "source": [
    "my_list = list(range(1000))\n",
    "perimeter(my_list)\n",
    "print(my_list)"
   ]
  },
  {
   "cell_type": "code",
   "execution_count": null,
   "metadata": {},
   "outputs": [],
   "source": [
    "def removeFromEnd(number_to_remove):\n",
    "    "
   ]
  }
 ],
 "metadata": {
  "kernelspec": {
   "display_name": "Python 3",
   "language": "python",
   "name": "python3"
  },
  "language_info": {
   "codemirror_mode": {
    "name": "ipython",
    "version": 3
   },
   "file_extension": ".py",
   "mimetype": "text/x-python",
   "name": "python",
   "nbconvert_exporter": "python",
   "pygments_lexer": "ipython3",
   "version": "3.6.5"
  }
 },
 "nbformat": 4,
 "nbformat_minor": 2
}
